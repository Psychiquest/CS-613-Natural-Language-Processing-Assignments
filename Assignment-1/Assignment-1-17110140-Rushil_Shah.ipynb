{
 "cells": [
  {
   "cell_type": "code",
   "execution_count": 1,
   "metadata": {},
   "outputs": [],
   "source": [
    "from nltk.tokenize import TweetTokenizer,RegexpTokenizer\n",
    "import pandas as pd\n",
    "import numpy as np\n",
    "from collections import Counter\n",
    "import re,math\n",
    "import matplotlib.pyplot as plt\n",
    "from sklearn.linear_model import LinearRegression\n",
    "from nltk.corpus import wordnet "
   ]
  },
  {
   "cell_type": "code",
   "execution_count": 2,
   "metadata": {},
   "outputs": [],
   "source": [
    "df=pd.read_csv(\"tweets-dataset.csv\")"
   ]
  },
  {
   "cell_type": "code",
   "execution_count": 3,
   "metadata": {},
   "outputs": [
    {
     "data": {
      "text/html": [
       "<div>\n",
       "<style scoped>\n",
       "    .dataframe tbody tr th:only-of-type {\n",
       "        vertical-align: middle;\n",
       "    }\n",
       "\n",
       "    .dataframe tbody tr th {\n",
       "        vertical-align: top;\n",
       "    }\n",
       "\n",
       "    .dataframe thead th {\n",
       "        text-align: right;\n",
       "    }\n",
       "</style>\n",
       "<table border=\"1\" class=\"dataframe\">\n",
       "  <thead>\n",
       "    <tr style=\"text-align: right;\">\n",
       "      <th></th>\n",
       "      <th>Sentence</th>\n",
       "    </tr>\n",
       "  </thead>\n",
       "  <tbody>\n",
       "    <tr>\n",
       "      <th>0</th>\n",
       "      <td>@BubblyDentist @MeetUunngLee nahi nahi, mere s...</td>\n",
       "    </tr>\n",
       "    <tr>\n",
       "      <th>1</th>\n",
       "      <td>going to the grammys first entertainment law b...</td>\n",
       "    </tr>\n",
       "    <tr>\n",
       "      <th>2</th>\n",
       "      <td>bohot hi badiya ji aap sunao?</td>\n",
       "    </tr>\n",
       "    <tr>\n",
       "      <th>3</th>\n",
       "      <td>Parvez Musharraf is Digvijay Singh of Pakistan...</td>\n",
       "    </tr>\n",
       "    <tr>\n",
       "      <th>4</th>\n",
       "      <td>guddu ko bass john cena k sticker ki padii hai...</td>\n",
       "    </tr>\n",
       "  </tbody>\n",
       "</table>\n",
       "</div>"
      ],
      "text/plain": [
       "                                            Sentence\n",
       "0  @BubblyDentist @MeetUunngLee nahi nahi, mere s...\n",
       "1  going to the grammys first entertainment law b...\n",
       "2                      bohot hi badiya ji aap sunao?\n",
       "3  Parvez Musharraf is Digvijay Singh of Pakistan...\n",
       "4  guddu ko bass john cena k sticker ki padii hai..."
      ]
     },
     "execution_count": 3,
     "metadata": {},
     "output_type": "execute_result"
    }
   ],
   "source": [
    "df.head()"
   ]
  },
  {
   "cell_type": "code",
   "execution_count": 4,
   "metadata": {},
   "outputs": [],
   "source": [
    "tk=TweetTokenizer()\n",
    "regextokenizer=RegexpTokenizer(\"[a-z]+|#\\S+|@\\S+\")"
   ]
  },
  {
   "cell_type": "markdown",
   "metadata": {},
   "source": [
    "The text is converted to lowercase. The regex code below removes all the urls and most of the emoticons that generally start with a \":\" from the tweets. The regex tokenizer removes every charcter except alphabets, hashtags and user-ids."
   ]
  },
  {
   "cell_type": "code",
   "execution_count": 5,
   "metadata": {},
   "outputs": [],
   "source": [
    "def preprocess(text):\n",
    "    \n",
    "    text=text.lower()\n",
    "    result= re.sub(r\"http\\S+|pic.twitter.com\\S+|:\\S+\", \"\", text) \n",
    "    result=\" \".join(regextokenizer.tokenize(result))\n",
    "    \n",
    "    return result"
   ]
  },
  {
   "cell_type": "markdown",
   "metadata": {},
   "source": [
    "Once the pre-processsing is completed, all the lines are tokenized using tweet tokenizer provided in the nltk library and a nested list of tokens in each sentence is made."
   ]
  },
  {
   "cell_type": "code",
   "execution_count": 6,
   "metadata": {},
   "outputs": [],
   "source": [
    "all_tokens=[]\n",
    "for i in range(df.shape[0]):\n",
    "    text=df['Sentence'][i]\n",
    "    processed=preprocess(text)\n",
    "    line_tokens=tk.tokenize(processed)\n",
    "    all_tokens.append(line_tokens)"
   ]
  },
  {
   "cell_type": "markdown",
   "metadata": {},
   "source": [
    "For every token_list in all_tokens document_length is considered to be the number of tokens observed till now. Lasttokens contains all the unique tokens observed till now. At every iteration, it appends the observed length of vocabulary in the list voc_length"
   ]
  },
  {
   "cell_type": "code",
   "execution_count": 7,
   "metadata": {},
   "outputs": [],
   "source": [
    "lasttokens=all_tokens[0]\n",
    "doc_length=[len(lasttokens)]\n",
    "lasttokens=set(lasttokens)\n",
    "voc_length=[len(lasttokens)]\n",
    "\n",
    "for i in range(1,len(all_tokens)):\n",
    "    lasttokens=lasttokens.union(all_tokens[i]) #Lasttokens is the set of vocabulary, so we form the union of the \n",
    "                                               #vocabulary till now with the tokens that we observe in the nth tweet\n",
    "    voc_length.append(len(lasttokens))      #voc_length maintains the size of vocabulary observed till the ith tweet.\n",
    "    doc_length.append(doc_length[-1]+len(all_tokens[i])) "
   ]
  },
  {
   "cell_type": "code",
   "execution_count": 8,
   "metadata": {},
   "outputs": [
    {
     "name": "stdout",
     "output_type": "stream",
     "text": [
      "Total number of tokens =  309660\n",
      "Total number of different types of tokens =  37031\n",
      "TTR =  0.11958599754569528\n"
     ]
    }
   ],
   "source": [
    "print(\"Total number of tokens = \",doc_length[-1])\n",
    "print(\"Total number of different types of tokens = \",len(lasttokens))\n",
    "TTR=len(lasttokens)/doc_length[-1]\n",
    "print(\"TTR = \",TTR)"
   ]
  },
  {
   "cell_type": "markdown",
   "metadata": {},
   "source": [
    "### Explanation\n",
    "\n",
    "According to heaps' law, $voc\\_length = k*(doc\\_length)^\\beta$\n",
    "\n",
    "So, $\\log(voc\\_length) = \\log(k) + \\beta * \\log(doc\\_length)$\n",
    "\n",
    "As this is a linear plot, we can use linear regression to get the best approximation of k and beta"
   ]
  },
  {
   "cell_type": "code",
   "execution_count": 9,
   "metadata": {},
   "outputs": [
    {
     "name": "stdout",
     "output_type": "stream",
     "text": [
      "8.422230494795873 [0.66658416]\n"
     ]
    }
   ],
   "source": [
    "logdoc=[math.log(x,10) for x in doc_length]\n",
    "logvoc=[math.log(x,10) for x in voc_length]\n",
    "\n",
    "\n",
    "regressor=LinearRegression().fit(np.reshape(np.array(logdoc),(-1,1)),logvoc)\n",
    "logk=regressor.intercept_\n",
    "\n",
    "k=10**logk\n",
    "beta=regressor.coef_\n",
    "print(k,beta)"
   ]
  },
  {
   "cell_type": "markdown",
   "metadata": {},
   "source": [
    "# Heap's Law"
   ]
  },
  {
   "cell_type": "code",
   "execution_count": 10,
   "metadata": {},
   "outputs": [
    {
     "data": {
      "image/png": "[encoded data removed]",
      "text/plain": [
       "<Figure size 432x288 with 1 Axes>"
      ]
     },
     "metadata": {
      "needs_background": "light"
     },
     "output_type": "display_data"
    }
   ],
   "source": [
    "plt.xlabel(\"Document length\")\n",
    "plt.ylabel(\"Vocabulary length\")\n",
    "\n",
    "plt.plot(doc_length,voc_length,label=\"Plot on the given tweets\")\n",
    "plt.plot(doc_length,[k*(i**beta) for i in doc_length],label=\"Expected plot\")\n",
    "\n",
    "plt.legend(bbox_to_anchor=(1.05, 1), loc='upper left', borderaxespad=0.)\n",
    "plt.show()"
   ]
  },
  {
   "cell_type": "markdown",
   "metadata": {},
   "source": [
    "Flattened tokens contains all the tokens that are present in the corpus. WordvsFrequencyDict contains the word to freuency mapping of the corpus."
   ]
  },
  {
   "cell_type": "code",
   "execution_count": 11,
   "metadata": {},
   "outputs": [],
   "source": [
    "flattened_all_tokens=[]\n",
    "for token_list in all_tokens:\n",
    "    flattened_all_tokens+=token_list\n",
    "    \n",
    "frequencyvsword=Counter(flattened_all_tokens).most_common()\n",
    "wordvsfrequencydict=dict()\n",
    "for word,frequency in frequencyvsword:\n",
    "    wordvsfrequencydict[word]=frequency"
   ]
  },
  {
   "cell_type": "markdown",
   "metadata": {},
   "source": [
    "## Zipf's law for Meaning and Frequency"
   ]
  },
  {
   "cell_type": "code",
   "execution_count": 12,
   "metadata": {},
   "outputs": [
    {
     "data": {
      "image/png": "[encoded data removed]",
      "text/plain": [
       "<Figure size 432x288 with 1 Axes>"
      ]
     },
     "metadata": {
      "needs_background": "light"
     },
     "output_type": "display_data"
    }
   ],
   "source": [
    "list_of_words_to_be_plotted=[\"earl\",\"doll\",\"situation\",\"gags\",\"save\",\"visit\", \"hall\",\"rest\",\"seat\",\"part\"]\n",
    "\n",
    "meaning_list=[]\n",
    "for word in list_of_words_to_be_plotted:\n",
    "    a=0\n",
    "    for syn in wordnet.synsets(word):\n",
    "        for l in syn.lemmas():\n",
    "                a+=1\n",
    "    meaning_list.append(a)\n",
    "\n",
    "frequency_list=[]\n",
    "for word in list_of_words_to_be_plotted:\n",
    "    frequency_list.append(wordvsfrequencydict[word])\n",
    "    \n",
    "plt.xlabel(\"sq. root of frequency\")\n",
    "plt.ylabel(\"Meaning\")\n",
    "\n",
    "frequency=[i for i in frequency_list]\n",
    "plt.plot(frequency,meaning_list)\n",
    "plt.show()\n",
    "    "
   ]
  },
  {
   "cell_type": "markdown",
   "metadata": {},
   "source": [
    "## Zipf's law for Length and Frequency"
   ]
  },
  {
   "cell_type": "code",
   "execution_count": 13,
   "metadata": {},
   "outputs": [
    {
     "data": {
      "image/png": "[encoded data removed]",
      "text/plain": [
       "<Figure size 432x288 with 1 Axes>"
      ]
     },
     "metadata": {
      "needs_background": "light"
     },
     "output_type": "display_data"
    }
   ],
   "source": [
    "plt.xlabel(\"Length \")\n",
    "plt.ylabel(\"frequency\")\n",
    "\n",
    "list_of_words_to_be_plotted=[\"barrymore\",\"olympics\",\"awkward\",\"killer\",\"earth\",\"sale\",\"guy\"]\n",
    "frequency=[wordvsfrequencydict[i] for i in list_of_words_to_be_plotted]\n",
    "length_list=[len(x) for x in list_of_words_to_be_plotted]\n",
    "\n",
    "plt.plot(length_list,frequency)\n",
    "plt.show()"
   ]
  }
 ],
 "metadata": {
  "kernelspec": {
   "display_name": "Python 3",
   "language": "python",
   "name": "python3"
  },
  "language_info": {
   "codemirror_mode": {
    "name": "ipython",
    "version": 3
   },
   "file_extension": ".py",
   "mimetype": "text/x-python",
   "name": "python",
   "nbconvert_exporter": "python",
   "pygments_lexer": "ipython3",
   "version": "3.7.3"
  }
 },
 "nbformat": 4,
 "nbformat_minor": 2
}
